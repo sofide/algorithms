{
 "cells": [
  {
   "cell_type": "code",
   "execution_count": 2,
   "id": "adopted-belize",
   "metadata": {},
   "outputs": [],
   "source": [
    "from matplotlib import pyplot\n",
    "\n",
    "from c04_w02_traveling_salesman_problem_tsp import get_cities_coordinates"
   ]
  },
  {
   "cell_type": "code",
   "execution_count": 3,
   "id": "subject-moore",
   "metadata": {},
   "outputs": [],
   "source": [
    "homework_filename = \"c04_w02_homework_input.txt\"\n",
    "cities = get_cities_coordinates(homework_filename)"
   ]
  },
  {
   "cell_type": "code",
   "execution_count": 4,
   "id": "equal-mauritius",
   "metadata": {},
   "outputs": [
    {
     "data": {
      "text/plain": [
       "[(20833.3333, 17100.0),\n",
       " (20900.0, 17066.6667),\n",
       " (21300.0, 13016.6667),\n",
       " (21600.0, 14150.0),\n",
       " (21600.0, 14966.6667),\n",
       " (21600.0, 16500.0),\n",
       " (22183.3333, 13133.3333),\n",
       " (22583.3333, 14300.0),\n",
       " (22683.3333, 12716.6667),\n",
       " (23616.6667, 15866.6667),\n",
       " (23700.0, 15933.3333),\n",
       " (23883.3333, 14533.3333),\n",
       " (24166.6667, 13250.0),\n",
       " (25149.1667, 12365.8333),\n",
       " (26133.3333, 14500.0),\n",
       " (26150.0, 10550.0),\n",
       " (26283.3333, 12766.6667),\n",
       " (26433.3333, 13433.3333),\n",
       " (26550.0, 13850.0),\n",
       " (26733.3333, 11683.3333),\n",
       " (27026.1111, 13051.9444),\n",
       " (27096.1111, 13415.8333),\n",
       " (27153.6111, 13203.3333),\n",
       " (27166.6667, 9833.3333),\n",
       " (27233.3333, 10450.0)]"
      ]
     },
     "execution_count": 4,
     "metadata": {},
     "output_type": "execute_result"
    }
   ],
   "source": [
    "cities"
   ]
  },
  {
   "cell_type": "code",
   "execution_count": 10,
   "id": "thrown-adjustment",
   "metadata": {},
   "outputs": [],
   "source": [
    "x, y = zip(*cities)"
   ]
  },
  {
   "cell_type": "code",
   "execution_count": 14,
   "id": "spare-letter",
   "metadata": {},
   "outputs": [
    {
     "data": {
      "text/plain": [
       "<matplotlib.collections.PathCollection at 0x1177ffa60>"
      ]
     },
     "execution_count": 14,
     "metadata": {},
     "output_type": "execute_result"
    },
    {
     "data": {
      "image/png": "[encoded data removed]",
      "text/plain": [
       "<Figure size 432x288 with 1 Axes>"
      ]
     },
     "metadata": {
      "needs_background": "light"
     },
     "output_type": "display_data"
    }
   ],
   "source": [
    "pyplot.scatter(x, y, c=[\"red\"] + [\"blue\"]*24)"
   ]
  },
  {
   "cell_type": "code",
   "execution_count": 13,
   "id": "synthetic-baseball",
   "metadata": {},
   "outputs": [],
   "source": [
    "pyplot.scatter?"
   ]
  },
  {
   "cell_type": "code",
   "execution_count": null,
   "id": "dependent-vampire",
   "metadata": {},
   "outputs": [],
   "source": []
  }
 ],
 "metadata": {
  "kernelspec": {
   "display_name": "Python 3",
   "language": "python",
   "name": "python3"
  },
  "language_info": {
   "codemirror_mode": {
    "name": "ipython",
    "version": 3
   },
   "file_extension": ".py",
   "mimetype": "text/x-python",
   "name": "python",
   "nbconvert_exporter": "python",
   "pygments_lexer": "ipython3",
   "version": "3.9.0"
  }
 },
 "nbformat": 4,
 "nbformat_minor": 5
}
